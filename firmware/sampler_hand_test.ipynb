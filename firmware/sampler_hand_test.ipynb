{
 "cells": [
  {
   "cell_type": "code",
   "execution_count": 13,
   "metadata": {},
   "outputs": [],
   "source": [
    "from serial import Serial\n",
    "from time import sleep\n",
    "import numpy as np\n",
    "import matplotlib.pyplot as plt\n",
    "\n",
    "dev = Serial(port='/dev/ttyUSB1', baudrate=115200, timeout=1)\n",
    "dev.reset_input_buffer()\n",
    "dev.reset_output_buffer()\n",
    "\n",
    "\n",
    "def _def_axis(ax):\n",
    "\n",
    "        ax.clear()\n",
    "        ax.grid(True, 'both', 'both')\n",
    "\n"
   ]
  },
  {
   "cell_type": "code",
   "execution_count": 21,
   "metadata": {
    "scrolled": true
   },
   "outputs": [
    {
     "name": "stdout",
     "output_type": "stream",
     "text": [
      "0\n",
      "num of samples = 0\n",
      "[]\n",
      "offset =  b''\n"
     ]
    },
    {
     "ename": "IndexError",
     "evalue": "index out of range",
     "output_type": "error",
     "traceback": [
      "\u001b[0;31m---------------------------------------------------------------------------\u001b[0m",
      "\u001b[0;31mIndexError\u001b[0m                                Traceback (most recent call last)",
      "\u001b[0;32m<ipython-input-21-56514416e7f3>\u001b[0m in \u001b[0;36m<module>\u001b[0;34m\u001b[0m\n\u001b[1;32m     27\u001b[0m \u001b[0mprint\u001b[0m\u001b[0;34m(\u001b[0m\u001b[0;34m'offset = '\u001b[0m\u001b[0;34m,\u001b[0m \u001b[0moffset\u001b[0m\u001b[0;34m)\u001b[0m\u001b[0;34m\u001b[0m\u001b[0;34m\u001b[0m\u001b[0m\n\u001b[1;32m     28\u001b[0m \u001b[0;34m\u001b[0m\u001b[0m\n\u001b[0;32m---> 29\u001b[0;31m \u001b[0moffset\u001b[0m \u001b[0;34m=\u001b[0m \u001b[0moffset\u001b[0m\u001b[0;34m[\u001b[0m\u001b[0;36m0\u001b[0m\u001b[0;34m]\u001b[0m \u001b[0;34m<<\u001b[0m \u001b[0;36m24\u001b[0m \u001b[0;34m+\u001b[0m \u001b[0moffset\u001b[0m\u001b[0;34m[\u001b[0m\u001b[0;36m1\u001b[0m\u001b[0;34m]\u001b[0m\u001b[0;34m<<\u001b[0m \u001b[0;36m16\u001b[0m \u001b[0;34m+\u001b[0m \u001b[0moffset\u001b[0m\u001b[0;34m[\u001b[0m\u001b[0;36m2\u001b[0m\u001b[0;34m]\u001b[0m \u001b[0;34m<<\u001b[0m \u001b[0;36m8\u001b[0m \u001b[0;34m+\u001b[0m \u001b[0moffset\u001b[0m\u001b[0;34m[\u001b[0m\u001b[0;36m3\u001b[0m\u001b[0;34m]\u001b[0m\u001b[0;34m\u001b[0m\u001b[0;34m\u001b[0m\u001b[0m\n\u001b[0m\u001b[1;32m     30\u001b[0m \u001b[0;34m\u001b[0m\u001b[0m\n\u001b[1;32m     31\u001b[0m \u001b[0moffset\u001b[0m \u001b[0;34m+=\u001b[0m \u001b[0;36m255\u001b[0m\u001b[0;34m\u001b[0m\u001b[0;34m\u001b[0m\u001b[0m\n",
      "\u001b[0;31mIndexError\u001b[0m: index out of range"
     ]
    }
   ],
   "source": [
    "dev.reset_input_buffer()\n",
    "dev.reset_output_buffer()\n",
    "# read all samples\n",
    "\n",
    "#dev.write(b'\\x23'); sleep(0.1); dev.write(b'\\23') # clear memmory\n",
    "\n",
    "dev.write(b'\\x21')  # select sampler\n",
    "\n",
    "#sleep(5)\n",
    "\n",
    "dev.write(b'\\x22')  # start sample-reader\n",
    "buf = b''\n",
    "\n",
    "while True:\n",
    "    print(len(buf))\n",
    "    b = dev.read(65535)\n",
    "    if not len(b):\n",
    "        break\n",
    "    buf += b\n",
    "    \n",
    "samples = [int(x) for x in buf]\n",
    "print('num of samples =', len(samples))\n",
    "print(samples[:20])\n",
    "\n",
    "dev.write(b'\\x24')\n",
    "offset = dev.read(4)\n",
    "print('offset = ', offset)\n",
    "\n",
    "offset = offset[0] << 24 + offset[1]<< 16 + offset[2] << 8 + offset[3]\n",
    "\n",
    "offset += 255\n",
    "post = (samples + samples + samples)[offset-127:offset+127]\n",
    "\n",
    "a = np.array(post)\n",
    "plt.plot(a, '.-')"
   ]
  },
  {
   "cell_type": "code",
   "execution_count": 27,
   "metadata": {},
   "outputs": [
    {
     "name": "stdout",
     "output_type": "stream",
     "text": [
      "sample count =  255\n"
     ]
    },
    {
     "data": {
      "image/png": "[encoded data removed]",
      "text/plain": [
       "<Figure size 432x288 with 1 Axes>"
      ]
     },
     "metadata": {
      "needs_background": "light"
     },
     "output_type": "display_data"
    }
   ],
   "source": [
    "dev.reset_input_buffer()\n",
    "dev.write(b'\\x31')  # select trigger config\n",
    "dev.write(b'\\x02')  # select edge\n",
    "dev.write(b'\\x80')  # upper bound is 128\n",
    "dev.write(b'\\x80')  # lower bound is 128\n",
    "\n",
    "dev.write(b'\\x32')  # select sample speed config\n",
    "dev.write(b'\\xff')  # MSB\n",
    "dev.write(b'\\xff')  # LSB\n",
    "\n",
    "dev.write(b'\\x25')  # choose adc selector\n",
    "dev.write(b'\\x02')  # select first ADC\n",
    "\n",
    "dev.write(b'\\x21')  # select sampler\n",
    "sleep(1)\n",
    "\n",
    "\n",
    "dev.write(b'\\x22')  # start sample-reader\n",
    "samples = dev.read(255)\n",
    "print('sample count = ', len(samples))\n",
    "\n",
    "dev.write(b'\\x24')\n",
    "offset = dev.read(4)\n",
    "offset = offset[0] << 24 + offset[1]<< 16 + offset[2] << 8 + offset[3]\n",
    "offset = offset + 255\n",
    "\n",
    "post = (samples + samples + samples)[offset-127:offset+127]\n",
    "\n",
    "\n",
    "a = np.array([int(x) for x in post])\n",
    "\n",
    "fig = plt.figure()\n",
    "ax = fig.add_subplot(111)\n",
    "_def_axis(ax)\n",
    "ax.axhline(y=0x80, color='r', linestyle=':')\n",
    "ax.axvline(x=127, color='g')\n",
    "ax.plot(a, '.-')\n",
    "fig.show()"
   ]
  },
  {
   "cell_type": "code",
   "execution_count": null,
   "metadata": {},
   "outputs": [],
   "source": []
  }
 ],
 "metadata": {
  "kernelspec": {
   "display_name": "Python 3",
   "language": "python",
   "name": "python3"
  },
  "language_info": {
   "codemirror_mode": {
    "name": "ipython",
    "version": 3
   },
   "file_extension": ".py",
   "mimetype": "text/x-python",
   "name": "python",
   "nbconvert_exporter": "python",
   "pygments_lexer": "ipython3",
   "version": "3.6.7"
  }
 },
 "nbformat": 4,
 "nbformat_minor": 2
}
